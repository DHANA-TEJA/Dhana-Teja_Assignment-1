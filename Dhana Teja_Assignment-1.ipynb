{
 "cells": [
  {
   "cell_type": "markdown",
   "metadata": {
    "id": "z_V_A8T_QJtp"
   },
   "source": [
    "___\n",
    "\n",
    "Mr. Yogesh P Murumkar (Mob. 9657080906)\n",
    "\n",
    "https://www.youtube.com/c/yogeshmurumkar\n",
    "___\n",
    "# Python Course Exercises 1\n",
    "\n",
    "This is an optional exercise to test your understanding of Python Basics. If you find this extremely challenging, then you probably are not ready for the rest of this course yet and don't have enough programming experience to continue. I would suggest you take another course more geared towards complete beginners."
   ]
  },
  {
   "cell_type": "markdown",
   "metadata": {
    "id": "xBGUpw8-QJtx"
   },
   "source": [
    "## Exercises\n",
    "\n",
    "Answer the questions or complete the tasks outlined in bold below, use the specific method described if applicable."
   ]
  },
  {
   "cell_type": "markdown",
   "metadata": {
    "id": "Tu4Ttsj0QJtz"
   },
   "source": [
    "** What is 7 to the power of 4?**"
   ]
  },
  {
   "cell_type": "code",
   "execution_count": 2,
   "metadata": {
    "colab": {
     "base_uri": "https://localhost:8080/"
    },
    "id": "cWIR4g_uQJt0",
    "outputId": "924f0698-72e6-4744-b4f6-b6d8e75102c1"
   },
   "outputs": [
    {
     "data": {
      "text/plain": [
       "2401"
      ]
     },
     "execution_count": 2,
     "metadata": {},
     "output_type": "execute_result"
    }
   ],
   "source": [
    "7**4"
   ]
  },
  {
   "cell_type": "markdown",
   "metadata": {
    "id": "9elwvS6QQJt3"
   },
   "source": [
    "** Split this string:**\n",
    "\n",
    "    s = \"Hi there Yogesh!\"\n",
    "    \n",
    "**into a list. **"
   ]
  },
  {
   "cell_type": "code",
   "execution_count": 6,
   "metadata": {
    "colab": {
     "base_uri": "https://localhost:8080/"
    },
    "id": "56HyQIsxQJt5",
    "outputId": "4bd92731-006b-4356-a869-22e634968eef"
   },
   "outputs": [
    {
     "data": {
      "text/plain": [
       "['Hi', 'there', 'Yogesh!']"
      ]
     },
     "execution_count": 6,
     "metadata": {},
     "output_type": "execute_result"
    }
   ],
   "source": [
    "s = \"Hi there Yogesh!\"\n",
    "list(s.split())"
   ]
  },
  {
   "cell_type": "markdown",
   "metadata": {
    "id": "XAShUFRpQJt7"
   },
   "source": [
    "** Given the variables:**\n",
    "\n",
    "    planet = \"Earth\"\n",
    "    diameter = 12742\n",
    "\n",
    "** Use .format() to print the following string: **\n",
    "\n",
    "    The diameter of Earth is 12742 kilometers."
   ]
  },
  {
   "cell_type": "code",
   "execution_count": 7,
   "metadata": {
    "id": "LU3iNVUIQJt9"
   },
   "outputs": [],
   "source": [
    "planet = \"Earth\"\n",
    "diameter = 12742"
   ]
  },
  {
   "cell_type": "code",
   "execution_count": 9,
   "metadata": {
    "id": "J6rjkMKOQJt_",
    "outputId": "994a2925-0725-4e4f-cb63-5a791973d606"
   },
   "outputs": [
    {
     "data": {
      "text/plain": [
       "'The diameter of Earth is 12742 kilometers'"
      ]
     },
     "execution_count": 9,
     "metadata": {},
     "output_type": "execute_result"
    }
   ],
   "source": [
    "a = \"The diameter of {} is {} kilometers\".format(planet,diameter)\n",
    "a"
   ]
  },
  {
   "cell_type": "markdown",
   "metadata": {
    "id": "ughIjEVmQJuA"
   },
   "source": [
    "** Given this nested list, use indexing to grab the word \"hello\" **"
   ]
  },
  {
   "cell_type": "code",
   "execution_count": 11,
   "metadata": {
    "id": "CICK3SenQJuB"
   },
   "outputs": [],
   "source": [
    "lst = [1,2,[3,4],[5,[100,200,['hello']],23,11],1,7]"
   ]
  },
  {
   "cell_type": "code",
   "execution_count": 13,
   "metadata": {
    "id": "bzy0iB1gQJuD",
    "outputId": "21072807-abf1-4919-bf5e-d8c46d4d4648"
   },
   "outputs": [
    {
     "data": {
      "text/plain": [
       "'hello'"
      ]
     },
     "execution_count": 13,
     "metadata": {},
     "output_type": "execute_result"
    }
   ],
   "source": [
    "lst[3][1][2][0]"
   ]
  },
  {
   "cell_type": "markdown",
   "metadata": {
    "id": "KvZZ9uOAQJuD"
   },
   "source": [
    "** Given this nested dictionary grab the word \"hello\". Be prepared, this will be annoying/tricky **"
   ]
  },
  {
   "cell_type": "code",
   "execution_count": 16,
   "metadata": {
    "id": "6UYjb58KQJuE"
   },
   "outputs": [],
   "source": [
    "d = {'k1':[1,2,3,{'tricky':['oh','man','inception',\n",
    "                            {'target':[1,2,3,'hello']}]}]}"
   ]
  },
  {
   "cell_type": "code",
   "execution_count": 17,
   "metadata": {
    "id": "qEHcy_WhQJuE",
    "outputId": "3bed0670-8901-45f4-804f-4db1d7b256bc"
   },
   "outputs": [
    {
     "data": {
      "text/plain": [
       "'hello'"
      ]
     },
     "execution_count": 17,
     "metadata": {},
     "output_type": "execute_result"
    }
   ],
   "source": [
    "d['k1'][3]['tricky'][3]['target'][3]"
   ]
  },
  {
   "cell_type": "markdown",
   "metadata": {
    "id": "2K65VtFZQJuF"
   },
   "source": [
    "** What is the main difference between a tuple and a list? **"
   ]
  },
  {
   "cell_type": "code",
   "execution_count": null,
   "metadata": {
    "collapsed": true,
    "id": "bybmMa7sQJuF"
   },
   "outputs": [],
   "source": [
    "# Tuple is immutable"
   ]
  },
  {
   "cell_type": "markdown",
   "metadata": {
    "id": "YlhiTKVdQJuG"
   },
   "source": [
    "** Create a function that grabs the email website domain from a string in the form: **\n",
    "\n",
    "    user@domain.com\n",
    "    \n",
    "**So for example, passing \"user@domain.com\" would return: domain.com**"
   ]
  },
  {
   "cell_type": "code",
   "execution_count": 20,
   "metadata": {
    "id": "97fbiFEDQJuH"
   },
   "outputs": [],
   "source": [
    "def fun1(a):\n",
    "    list1 = list(a.split('@'))\n",
    "    return list1[1]"
   ]
  },
  {
   "cell_type": "code",
   "execution_count": 21,
   "metadata": {
    "id": "Ntnzy8_WQJuH",
    "outputId": "fe2c3de2-9ff8-4f69-8c1a-67c8c27ad2c5"
   },
   "outputs": [
    {
     "data": {
      "text/plain": [
       "'domain.com'"
      ]
     },
     "execution_count": 21,
     "metadata": {},
     "output_type": "execute_result"
    }
   ],
   "source": [
    "fun1(\"user@domain.com\" )"
   ]
  },
  {
   "cell_type": "markdown",
   "metadata": {
    "id": "gwiE_tcKQJuH"
   },
   "source": [
    "** Create a basic function that returns True if the word 'dog' is contained in the input string. Don't worry about edge cases like a punctuation being attached to the word dog, but do account for capitalization. **"
   ]
  },
  {
   "cell_type": "code",
   "execution_count": 43,
   "metadata": {
    "id": "D-R4e4EnQJuI"
   },
   "outputs": [],
   "source": [
    "def findDog(a):\n",
    "    if 'dog' in a.lower().split():\n",
    "        return True\n",
    "    else:\n",
    "        return False"
   ]
  },
  {
   "cell_type": "code",
   "execution_count": 44,
   "metadata": {
    "id": "2b4jgFPOQJuI",
    "outputId": "a837ea6f-c68e-4314-e030-7345bacc86aa"
   },
   "outputs": [
    {
     "data": {
      "text/plain": [
       "True"
      ]
     },
     "execution_count": 44,
     "metadata": {},
     "output_type": "execute_result"
    }
   ],
   "source": [
    "findDog('Is there a dog here?')"
   ]
  },
  {
   "cell_type": "markdown",
   "metadata": {
    "id": "w3UV5uuaQJuJ"
   },
   "source": [
    "** Create a function that counts the number of times the word \"dog\" occurs in a string. Again ignore edge cases. **"
   ]
  },
  {
   "cell_type": "code",
   "execution_count": 22,
   "metadata": {
    "id": "5oMhr3-qQJuJ"
   },
   "outputs": [],
   "source": [
    "def countDog(a):\n",
    "      return a.lower().split().count(\"dog\")"
   ]
  },
  {
   "cell_type": "code",
   "execution_count": 27,
   "metadata": {
    "id": "1HxTPIaLQJuJ",
    "outputId": "35354736-0d1b-40c2-e1d1-b973592381f9"
   },
   "outputs": [
    {
     "data": {
      "text/plain": [
       "4"
      ]
     },
     "execution_count": 27,
     "metadata": {},
     "output_type": "execute_result"
    }
   ],
   "source": [
    "countDog('dog dog Dog yo ho dog')"
   ]
  },
  {
   "cell_type": "markdown",
   "metadata": {
    "id": "ncs1mE9SQJuK"
   },
   "source": [
    "** Use lambda expressions and the filter() function to filter out words from a list that don't start with the letter 's'. For example:**\n",
    "\n",
    "    seq = ['soup','dog','salad','cat','great']\n",
    "\n",
    "**should be filtered down to:**\n",
    "\n",
    "    ['soup','salad']"
   ]
  },
  {
   "cell_type": "code",
   "execution_count": 46,
   "metadata": {
    "id": "DFR_5vgPQJuL"
   },
   "outputs": [],
   "source": [
    "seq = ['soup','dog','salad','cat','great']\n"
   ]
  },
  {
   "cell_type": "code",
   "execution_count": 47,
   "metadata": {},
   "outputs": [
    {
     "data": {
      "text/plain": [
       "['dog', 'cat', 'great']"
      ]
     },
     "execution_count": 47,
     "metadata": {},
     "output_type": "execute_result"
    }
   ],
   "source": [
    "list(filter(lambda x: x[0] != 's',seq))"
   ]
  },
  {
   "cell_type": "markdown",
   "metadata": {
    "id": "WZB9cYH-QJuM"
   },
   "source": [
    "### Final Problem\n",
    "**You are driving a little too fast, and a police officer stops you. Write a function\n",
    "  to return one of 3 possible results: \"No ticket\", \"Small ticket\", or \"Big Ticket\".\n",
    "  If your speed is 60 or less, the result is \"No Ticket\". If speed is between 61\n",
    "  and 80 inclusive, the result is \"Small Ticket\". If speed is 81 or more, the result is \"Big    Ticket\". Unless it is your birthday (encoded as a boolean value in the parameters of the function) -- on your birthday, your speed can be 5 higher in all\n",
    "  cases. **"
   ]
  },
  {
   "cell_type": "code",
   "execution_count": 51,
   "metadata": {
    "id": "MF56ggOQQJuM"
   },
   "outputs": [],
   "source": [
    "def caught_speeding(speed, is_birthday):\n",
    "    if is_birthday:\n",
    "        speed = speed-5\n",
    "    if speed <= 60: \n",
    "            return \"No Ticket\"\n",
    "    elif speed >= 61 and speed <=80:\n",
    "            return \"Small Ticket\"\n",
    "    elif speed >= 81:\n",
    "            return \"Big Ticket\"    "
   ]
  },
  {
   "cell_type": "code",
   "execution_count": 54,
   "metadata": {
    "id": "3QU9IrRmQJuN",
    "outputId": "0faac5e7-eff4-4d99-8b41-235f65781276"
   },
   "outputs": [
    {
     "data": {
      "text/plain": [
       "'Small Ticket'"
      ]
     },
     "execution_count": 54,
     "metadata": {},
     "output_type": "execute_result"
    }
   ],
   "source": [
    "caught_speeding(64,False)"
   ]
  },
  {
   "cell_type": "code",
   "execution_count": 55,
   "metadata": {
    "id": "1lsXiwFSQJuO",
    "outputId": "c9e6eb99-73af-47c5-f22c-bf0d7c873afb"
   },
   "outputs": [
    {
     "data": {
      "text/plain": [
       "'Small Ticket'"
      ]
     },
     "execution_count": 55,
     "metadata": {},
     "output_type": "execute_result"
    }
   ],
   "source": [
    "caught_speeding(81,True)"
   ]
  },
  {
   "cell_type": "markdown",
   "metadata": {
    "id": "8Ckci1sCQJuO"
   },
   "source": [
    "Question\n",
    "Given a string print number num by extracting all the\n",
    "digits from the string as in string\n",
    "Print negative number if the first character in\n",
    "string is '-'\n",
    "eg.\n",
    "-123abcd should return -123,abcd456-->456,fdhfh78dsd89--->7889,-56dssd78-->-5678"
   ]
  },
  {
   "cell_type": "code",
   "execution_count": 42,
   "metadata": {},
   "outputs": [
    {
     "name": "stdout",
     "output_type": "stream",
     "text": [
      "Enter the String-yt54esd\n",
      "-54"
     ]
    }
   ],
   "source": [
    "get_input = input(\"Enter the String\")\n",
    "a = []\n",
    "for char in get_input:\n",
    "    a.append(char)\n",
    "for i in a:\n",
    "    if i.isdigit() or i == \"-\":\n",
    "        print(i,end=\"\")"
   ]
  },
  {
   "cell_type": "markdown",
   "metadata": {
    "id": "Aoj2DERXQJuP"
   },
   "source": [
    "Q2\n",
    "WAP to check whether a number is palindrome or not on following\n",
    "conditions.\n",
    "1. take input number\n",
    "2. add number and its reverse\n",
    "3. check that number is palindrome or not,if not then sum and its reverse"
   ]
  },
  {
   "cell_type": "code",
   "execution_count": 84,
   "metadata": {},
   "outputs": [
    {
     "name": "stdout",
     "output_type": "stream",
     "text": [
      "Enter the number78\n",
      "sum :  165\n",
      "sum :  726\n",
      "sum :  1353\n",
      "sum :  4884\n",
      "4884 is palindrome\n",
      "palindrome :  None\n"
     ]
    }
   ],
   "source": [
    "def find_pal(num):\n",
    "    if str(num) == str(num)[::-1]:\n",
    "        print(\"{} is palindrome\".format(num))\n",
    "    else:\n",
    "        return sum1(str(num))\n",
    "    \n",
    "    \n",
    "def sum1(num):\n",
    "    sum2 = int(num[::-1]) + int(num)\n",
    "    print(\"sum : \",sum2)\n",
    "    return find_pal(sum2)\n",
    "        \n",
    "num1 = (input(\"Enter the number\"))\n",
    "\n",
    "print(\"palindrome : \",find_pal(num1))\n",
    "\n"
   ]
  },
  {
   "cell_type": "markdown",
   "metadata": {
    "id": "82LZn3ZNQJuP"
   },
   "source": [
    "Write a python function to find and display the five\n",
    "digit number in which the first digit is two more than\n",
    "the second,the second digit is two more than the third,\n",
    "the fourth digit is two less than the third, and the\n",
    "last digit is two more than\n",
    "the fourth.The sum of the third,fourth and fifth digits\n",
    "equals the first.The sum of all the digits is 19"
   ]
  },
  {
   "cell_type": "code",
   "execution_count": 19,
   "metadata": {},
   "outputs": [
    {
     "data": {
      "text/plain": [
       "'75313'"
      ]
     },
     "execution_count": 19,
     "metadata": {},
     "output_type": "execute_result"
    }
   ],
   "source": [
    "def find_five_digit_number():\n",
    "    for a1 in range(1,10):\n",
    "        for a2 in range(10):\n",
    "            for a3 in range(10):\n",
    "                for a4 in range(10):\n",
    "                    for a5 in range(10):\n",
    "                        if a1 == a2 + 2 and a2 == a3 + 2 and a4 == a3 - 2 and a5 == a4 + 2 and a3 + a4 + a5 == a1 and a1+a2+a3+a4+a5==19:\n",
    "                            return '{}{}{}{}{}'.format(a1,a2,a3,a4,a5)\n",
    "        \n",
    "find_five_digit_number()       "
   ]
  },
  {
   "cell_type": "markdown",
   "metadata": {
    "id": "HQI8SaqWQJuR"
   },
   "source": [
    "# Great job!"
   ]
  }
 ],
 "metadata": {
  "colab": {
   "provenance": []
  },
  "kernelspec": {
   "display_name": "Python 3 (ipykernel)",
   "language": "python",
   "name": "python3"
  },
  "language_info": {
   "codemirror_mode": {
    "name": "ipython",
    "version": 3
   },
   "file_extension": ".py",
   "mimetype": "text/x-python",
   "name": "python",
   "nbconvert_exporter": "python",
   "pygments_lexer": "ipython3",
   "version": "3.11.4"
  }
 },
 "nbformat": 4,
 "nbformat_minor": 1
}
